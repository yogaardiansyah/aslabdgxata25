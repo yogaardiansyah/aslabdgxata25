{
  "nbformat": 4,
  "nbformat_minor": 0,
  "metadata": {
    "colab": {
      "provenance": [],
      "collapsed_sections": [
        "zVRhQKscBAxT"
      ]
    },
    "kernelspec": {
      "name": "python3",
      "display_name": "Python 3"
    },
    "language_info": {
      "name": "python"
    }
  },
  "cells": [
    {
      "cell_type": "markdown",
      "source": [],
      "metadata": {
        "id": "-gGfn4H9Ja_g"
      }
    },
    {
      "cell_type": "markdown",
      "source": [
        "## No 1"
      ],
      "metadata": {
        "id": "44HvuY2y0JOV"
      }
    },
    {
      "cell_type": "markdown",
      "source": [
        "### Soal\n",
        "Diisi dengan jawaban dari pertanyaan berikut ini:\n",
        "Tuliskan nama lengkap Anda beserta dengan NPM, Kelas dan Program Studi atau Jurusan."
      ],
      "metadata": {
        "id": "ZOf7d03HJZa_"
      }
    },
    {
      "cell_type": "code",
      "execution_count": null,
      "metadata": {
        "id": "s_dXSOxgz6kW"
      },
      "outputs": [],
      "source": [
        "nama = \"Yoga Ardiansyah\"\n",
        "kelas = \"3IA25\"\n",
        "npm = \"51422643\"\n",
        "\n",
        "print(\"Nama : \" + nama)\n",
        "print(\"Kelas : \" + kelas)\n",
        "print(\"NPM : \" + npm)"
      ]
    },
    {
      "cell_type": "markdown",
      "source": [
        "## No 2"
      ],
      "metadata": {
        "id": "7vMI-2CO0QIc"
      }
    },
    {
      "cell_type": "markdown",
      "source": [
        "### Soal\n",
        "Pak Hadi diminta untuk membuat sebuah program yang menghitung biaya parkir mobil di sebuah mall. Biaya parkir di mall tersebut\n",
        "adalah Rp. 5000 untuk jam pertama, dan Rp. 3000 untuk setiap jam berikutnya. Jika mobil parkir lebih dari 12 jam, maka biaya parkir\n",
        "menjadi Rp. 50.000. Program harus menerima input jam masuk dan jam keluar dalam format 24 jam, dan mencetak biaya parkir yang\n",
        "harus dibayar.\n",
        "Buatlah program sesuai yang diminta!"
      ],
      "metadata": {
        "id": "GlsXaMFWJQ1h"
      }
    },
    {
      "cell_type": "code",
      "source": [
        "def hitung_biaya_parkir(jam_masuk, menit_masuk, jam_keluar, menit_keluar):\n",
        "    total_menit_masuk = jam_masuk * 60 + menit_masuk\n",
        "    total_menit_keluar = jam_keluar * 60 + menit_keluar\n",
        "\n",
        "    if total_menit_keluar < total_menit_masuk:\n",
        "        total_menit_keluar += 24 * 60\n",
        "\n",
        "    durasi_parkir = total_menit_keluar - total_menit_masuk\n",
        "    durasi_jam = durasi_parkir // 60\n",
        "    durasi_menit = durasi_parkir % 60\n",
        "\n",
        "    if durasi_jam <= 1:\n",
        "        biaya = 5000\n",
        "    elif durasi_jam > 1 and durasi_jam <= 12:\n",
        "        biaya = 5000 + (durasi_jam - 1) * 3000\n",
        "        if durasi_menit > 0:\n",
        "            biaya += 3000\n",
        "    else:\n",
        "        biaya = 50000\n",
        "\n",
        "    return biaya\n",
        "\n",
        "jam_masuk, menit_masuk = map(int, input(\"Masukkan jam dan menit masuk (HH:MM): \").split(\":\"))\n",
        "jam_keluar, menit_keluar = map(int, input(\"Masukkan jam dan menit keluar (HH:MM): \").split(\":\"))\n",
        "\n",
        "biaya = hitung_biaya_parkir(jam_masuk, menit_masuk, jam_keluar, menit_keluar)\n",
        "print(f\"Biaya parkir yang harus dibayar adalah Rp. {biaya}\")"
      ],
      "metadata": {
        "id": "ibbJs1-F0H-t"
      },
      "execution_count": null,
      "outputs": []
    },
    {
      "cell_type": "markdown",
      "source": [
        "## No 3"
      ],
      "metadata": {
        "id": "CTymYyFf0R1K"
      }
    },
    {
      "cell_type": "markdown",
      "source": [
        "### Soal\n",
        "Diisi dengan jawaban dari pertanyaan berikut ini:\n",
        "Sebutkan halaman website terkait MK Praktikum Unggulan (Praktikum DGX) Universitas Gunadarma dan silakan disampaikan\n",
        "informasi apa saja yang bisa Anda dapatkan pada halaman website tersebut?"
      ],
      "metadata": {
        "id": "XKJlC96fJSsW"
      }
    },
    {
      "cell_type": "markdown",
      "source": [
        "# **MK Praktikum Unggulan (Praktikum DGX) Universitas Gunadarma**\n",
        "\n",
        "Halaman website MK Praktikum Unggulan (Praktikum DGX) Universitas Gunadarma menyediakan berbagai informasi terkait praktikum unggulan dan link yang terkait dengan kegiatan akademik dan praktikum di Universitas Gunadarma.\n",
        "\n",
        "## **🔗 Link Terkait**\n",
        "- **Mata Kuliah Praktikum Unggulan PSA Universitas Gunadarma**  \n",
        "  [https://psa.gunadarma.ac.id](https://psa.gunadarma.ac.id)  \n",
        "- **BAAK Universitas Gunadarma**  \n",
        "  [https://baak.gunadarma.ac.id](https://baak.gunadarma.ac.id)  \n",
        "- **Virtual Class Universitas Gunadarma**  \n",
        "  [https://v-class.gunadarma.ac.id](https://v-class.gunadarma.ac.id)  \n",
        "- **Studentsite Universitas Gunadarma**  \n",
        "  [https://studentsite.gunadarma.ac.id](https://studentsite.gunadarma.ac.id)  \n",
        "- **High Performance Computing Universitas Gunadarma**  \n",
        "  [https://www.hpc-hub.gunadarma.ac.id](https://www.hpc-hub.gunadarma.ac.id)  \n",
        "\n",
        "---\n",
        "\n",
        "## **📌 Informasi Praktikum**\n",
        "### **📍 Kompetensi Praktikum**\n",
        "- **Kursus Data Science**  \n",
        "- **Health Artificial Intelligence**  \n",
        "\n",
        "### **📍 Jadwal Praktikum**\n",
        "- **Jadwal Praktikum MSIB**  \n",
        "- **Jadwal Praktikum AKMRTV**  \n",
        "- **Jadwal Praktikum Agroindust**  \n",
        "\n",
        "---\n",
        "\n",
        "## **📌 Teknis Pelaksanaan Praktikum**\n",
        "- **Alur Pelaksanaan**  \n",
        "- **Link Akses DGX**  \n",
        "- **Tata Tertib Praktikum**  \n",
        "- **Pengulangan Praktikum**  \n",
        "- **Cek Nilai Praktikum**  \n",
        "- **Umpan Balik MK Praktikum**  \n",
        "\n",
        "---\n",
        "\n",
        "## **📌 Rekrutmen dan Kegiatan Asisten Praktikum**\n",
        "- **Recruitment Asisten**  \n",
        "- **Kegiatan Asisten**  \n",
        "- **Jadwal Asisten**  \n",
        "- **Tata Tertib Asisten**  \n",
        "- **Prestasi Asisten**  \n",
        "\n",
        "---\n",
        "\n",
        "## **📞 Kontak**\n",
        "Tersedia informasi kontak untuk membantu mahasiswa dan asisten praktikum.\n",
        "\n",
        "---\n",
        "\n",
        "## **🔗 Link Akses Praktikum**\n",
        "Untuk mendapatkan link akses ke praktikum, kunjungi:  \n",
        "[https://hypercomputation-hub.gunadarma.ac.id/](https://hypercomputation-hub.gunadarma.ac.id/)  \n",
        "\n",
        "---\n",
        "\n",
        "Website ini menyediakan berbagai informasi penting mengenai **mata kuliah praktikum, jadwal praktikum, kompetensi yang dikuasai, serta alur teknis praktikum dan prosedur bagi asisten praktikum**. Selain itu, website ini juga menyediakan akses ke platform-platform pendukung praktikum di Universitas Gunadarma.\n"
      ],
      "metadata": {
        "id": "bkZOLiYv1iE6"
      }
    },
    {
      "cell_type": "markdown",
      "source": [
        "## No 4"
      ],
      "metadata": {
        "id": "9xRaZLBd1ivk"
      }
    },
    {
      "cell_type": "markdown",
      "source": [
        "### Soal\n",
        "Perbaiki kesalahannya dan berikan hasil identifikasi Anda."
      ],
      "metadata": {
        "id": "JBxAMv58HD9T"
      }
    },
    {
      "cell_type": "code",
      "source": [
        "## Perhatikan program berikut dan identifikasi kesalahan pada sintaks di bawah ini!\n",
        "def print hello(nama):\n",
        "print(\"Hello, \" + name)\n",
        "names = [\"Alice\", \"Bob\", \"Charlie\"]\n",
        "for nama in names\n",
        "print_hello(name)q"
      ],
      "metadata": {
        "id": "mThO9EeWaNTD"
      },
      "execution_count": null,
      "outputs": []
    },
    {
      "cell_type": "markdown",
      "source": [
        "Program yang diberikan memiliki beberapa kesalahan sintaksis. Berikut adalah identifikasi kesalahannya\n",
        "\n",
        "Kesalahan :\n",
        "\n",
        "*   Fungsi print hello seharusnya ditulis dengan tanda menjadi print_hello\n",
        "*   Nama variabel yang tidak konsisten Di dalam fungsi, menggunakan name pada baris print(\"Hello, \" + name), sementara parameter fungsi adalah nama. Nama variabel yang digunakan harus konsisten.\n",
        "* identasi yang bermasalah dimana print dan def print sejajar seharusnya print menjorok kedalam karena termasuk dari fungsi\n",
        "* Kurang tanda titik dua (:) pada perulangan for. Setiap pernyataan kontrol seperti for harus diakhiri dengan tanda titik dua (:).\n",
        "* Kesalahan pemanggilan fungsi: Anda memanggil print_hello(name), tetapi variabel yang digunakan adalah nama. nama variabel yang konsisten juga diperlukan."
      ],
      "metadata": {
        "id": "KS_75C3J1ueS"
      }
    },
    {
      "cell_type": "code",
      "source": [
        "# Perbaikan\n",
        "def print_hello(name):\n",
        "    print(\"Hello, \" + name)\n",
        "\n",
        "names = [\"Alice\", \"Bob\", \"Charlie\"]\n",
        "for name in names:\n",
        "    print_hello(name)\n"
      ],
      "metadata": {
        "id": "aO0lgGCu1kdu"
      },
      "execution_count": null,
      "outputs": []
    },
    {
      "cell_type": "markdown",
      "source": [
        "## No 5"
      ],
      "metadata": {
        "id": "ySImyx5h11rp"
      }
    },
    {
      "cell_type": "markdown",
      "source": [
        "### Soal\n",
        "Anda merupakan seseorang yang ditugaskan untuk melakukan analisis terhadap data Traffic Accidents. Untuk membuat data lebihmudah dipahami oleh stakeholders, Anda diminta untuk melakukan visualisasi dari data tersebut.\n",
        "\n",
        "Data dapat Anda akses melalui tautan: https://bit.ly/3EYqyyF\n",
        "\n",
        "Silakan buatlah visualisasi sederhana dari data tersebut (diagram yang digunakan bebas). Pastikan visualisasi yang Anda buat dapat\n",
        "memberikan insight atau wawasan yang bermanfaat."
      ],
      "metadata": {
        "id": "VQvbdH-dGyp7"
      }
    },
    {
      "cell_type": "markdown",
      "source": [
        "### Simple EDA"
      ],
      "metadata": {
        "id": "zVRhQKscBAxT"
      }
    },
    {
      "cell_type": "code",
      "source": [
        "import pandas as pd"
      ],
      "metadata": {
        "id": "gNptuTef11LJ"
      },
      "execution_count": null,
      "outputs": []
    },
    {
      "cell_type": "code",
      "source": [
        "url = \"https://raw.githubusercontent.com/yogaardiansyah/aslabdgxata25/main/global_traffic_accidents.csv\"\n",
        "df = pd.read_csv(url)"
      ],
      "metadata": {
        "id": "cZIhJpjs_VdU"
      },
      "execution_count": null,
      "outputs": []
    },
    {
      "cell_type": "code",
      "source": [
        "df.head()"
      ],
      "metadata": {
        "id": "JhHMm7gmAEi7"
      },
      "execution_count": null,
      "outputs": []
    },
    {
      "cell_type": "code",
      "source": [
        "df.tail()"
      ],
      "metadata": {
        "id": "8ZUNmSEVAGV4"
      },
      "execution_count": null,
      "outputs": []
    },
    {
      "cell_type": "code",
      "source": [
        "df.shape"
      ],
      "metadata": {
        "id": "kl_FynMAAHsT"
      },
      "execution_count": null,
      "outputs": []
    },
    {
      "cell_type": "code",
      "source": [
        "df.isnull().sum()"
      ],
      "metadata": {
        "id": "Ap9_nrvAAI97"
      },
      "execution_count": null,
      "outputs": []
    },
    {
      "cell_type": "code",
      "source": [
        "df['Datetime'] = pd.to_datetime(df['Date'] + ' ' + df['Time'])"
      ],
      "metadata": {
        "id": "hQsgfroGArcG"
      },
      "execution_count": null,
      "outputs": []
    },
    {
      "cell_type": "code",
      "source": [
        "df.describe()"
      ],
      "metadata": {
        "id": "soPUkjuIAKKT"
      },
      "execution_count": null,
      "outputs": []
    },
    {
      "cell_type": "code",
      "source": [
        "df['Weather Condition'].unique()"
      ],
      "metadata": {
        "id": "JSaKxsQMAuRk"
      },
      "execution_count": null,
      "outputs": []
    },
    {
      "cell_type": "code",
      "source": [
        "df['Road Condition'].unique()"
      ],
      "metadata": {
        "id": "uartXX6mAzq_"
      },
      "execution_count": null,
      "outputs": []
    },
    {
      "cell_type": "code",
      "source": [
        "df['Cause'].unique()"
      ],
      "metadata": {
        "id": "OKIFLX1uAz5x"
      },
      "execution_count": null,
      "outputs": []
    },
    {
      "cell_type": "code",
      "source": [
        "df.duplicated().sum()"
      ],
      "metadata": {
        "id": "yATU98kVA17k"
      },
      "execution_count": null,
      "outputs": []
    },
    {
      "cell_type": "markdown",
      "source": [
        "### Visualization"
      ],
      "metadata": {
        "id": "UoHDFTcrBEVf"
      }
    },
    {
      "cell_type": "code",
      "source": [
        "import numpy as np\n",
        "import matplotlib.pyplot as plt\n",
        "import seaborn as sns\n",
        "import folium\n",
        "from folium.plugins import HeatMap\n",
        "from datetime import datetime"
      ],
      "metadata": {
        "id": "8qk9VCq4BJJJ"
      },
      "execution_count": null,
      "outputs": []
    },
    {
      "cell_type": "code",
      "source": [
        "df['Year'] = df['Datetime'].dt.year\n",
        "df['Month'] = df['Datetime'].dt.month\n",
        "df['Day_of_Week'] = df['Datetime'].dt.day_name()\n",
        "df['Hour'] = df['Datetime'].dt.hour"
      ],
      "metadata": {
        "id": "uX5_0H94El0G"
      },
      "execution_count": null,
      "outputs": []
    },
    {
      "cell_type": "code",
      "source": [
        "plt.figure(figsize=(12, 6))\n",
        "sns.countplot(data=df, x='Month', palette='viridis')\n",
        "plt.title('Distribusi Kecelakaan Berdasarkan Bulan')\n",
        "plt.xlabel('Bulan')\n",
        "plt.ylabel('Jumlah Kecelakaan')\n",
        "plt.show()"
      ],
      "metadata": {
        "id": "qVsRKo54EpaX"
      },
      "execution_count": null,
      "outputs": []
    },
    {
      "cell_type": "code",
      "source": [
        "plt.figure(figsize=(12, 6))\n",
        "sns.countplot(data=df, x='Location', order=df['Location'].value_counts().index[:10], palette='Set2')\n",
        "plt.title('10 Kota dengan Kecelakaan Terbanyak')\n",
        "plt.xlabel('Lokasi')\n",
        "plt.ylabel('Jumlah Kecelakaan')\n",
        "plt.xticks(rotation=45, ha='right')\n",
        "plt.show()"
      ],
      "metadata": {
        "id": "udg50emuEqns"
      },
      "execution_count": null,
      "outputs": []
    },
    {
      "cell_type": "code",
      "source": [
        "plt.figure(figsize=(12, 6))\n",
        "sns.countplot(data=df, x='Weather Condition', palette='coolwarm')\n",
        "plt.title('Jumlah Kecelakaan Berdasarkan Kondisi Cuaca')\n",
        "plt.xlabel('Kondisi Cuaca')\n",
        "plt.ylabel('Jumlah Kecelakaan')\n",
        "plt.xticks(rotation=45)\n",
        "plt.show()"
      ],
      "metadata": {
        "id": "nd42c72HEtAT"
      },
      "execution_count": null,
      "outputs": []
    },
    {
      "cell_type": "code",
      "source": [
        "plt.figure(figsize=(12, 6))\n",
        "sns.countplot(data=df, x='Road Condition', palette='muted')\n",
        "plt.title('Jumlah Kecelakaan Berdasarkan Kondisi Jalan')\n",
        "plt.xlabel('Kondisi Jalan')\n",
        "plt.ylabel('Jumlah Kecelakaan')\n",
        "plt.xticks(rotation=45)\n",
        "plt.show()"
      ],
      "metadata": {
        "id": "aULRljL3EuX7"
      },
      "execution_count": null,
      "outputs": []
    },
    {
      "cell_type": "code",
      "source": [
        "plt.figure(figsize=(12, 6))\n",
        "sns.histplot(df['Casualties'], kde=True, color='red', bins=30)\n",
        "plt.title('Distribusi Jumlah Korban Cedera dan Kematian')\n",
        "plt.xlabel('Jumlah Korban')\n",
        "plt.ylabel('Frekuensi')\n",
        "plt.show()"
      ],
      "metadata": {
        "id": "BpBRAP3WEvo8"
      },
      "execution_count": null,
      "outputs": []
    },
    {
      "cell_type": "code",
      "source": [
        "plt.figure(figsize=(12, 6))\n",
        "sns.countplot(data=df, x='Cause', palette='coolwarm')\n",
        "plt.title('Jumlah Kecelakaan Berdasarkan Penyebab')\n",
        "plt.xlabel('Penyebab')\n",
        "plt.ylabel('Jumlah Kecelakaan')\n",
        "plt.xticks(rotation=45)\n",
        "plt.show()"
      ],
      "metadata": {
        "id": "RkfCKIwYExC6"
      },
      "execution_count": null,
      "outputs": []
    },
    {
      "cell_type": "code",
      "source": [
        "plt.figure(figsize=(12, 6))\n",
        "sns.countplot(data=df, x='Vehicles Involved', palette='Blues')\n",
        "plt.title('Jumlah Kecelakaan Berdasarkan Jumlah Kendaraan yang Terlibat')\n",
        "plt.xlabel('Jumlah Kendaraan')\n",
        "plt.ylabel('Jumlah Kecelakaan')\n",
        "plt.show()"
      ],
      "metadata": {
        "id": "7agp-WIbE0FF"
      },
      "execution_count": null,
      "outputs": []
    },
    {
      "cell_type": "code",
      "source": [
        "plt.figure(figsize=(12, 6))\n",
        "sns.boxplot(data=df, x='Weather Condition', y='Casualties', palette='coolwarm')\n",
        "plt.title('Jumlah Korban Berdasarkan Kondisi Cuaca')\n",
        "plt.xlabel('Kondisi Cuaca')\n",
        "plt.ylabel('Jumlah Korban')\n",
        "plt.xticks(rotation=45)\n",
        "plt.show()"
      ],
      "metadata": {
        "id": "hDFQwokCE1Ua"
      },
      "execution_count": null,
      "outputs": []
    },
    {
      "cell_type": "code",
      "source": [
        "plt.figure(figsize=(12, 6))\n",
        "sns.boxplot(data=df, x='Road Condition', y='Casualties', palette='muted')\n",
        "plt.title('Jumlah Korban Berdasarkan Kondisi Jalan')\n",
        "plt.xlabel('Kondisi Jalan')\n",
        "plt.ylabel('Jumlah Korban')\n",
        "plt.xticks(rotation=45)\n",
        "plt.show()"
      ],
      "metadata": {
        "id": "fqM6zQF8E2nh"
      },
      "execution_count": null,
      "outputs": []
    },
    {
      "cell_type": "code",
      "source": [
        "plt.figure(figsize=(12, 6))\n",
        "sns.boxplot(data=df, x='Weather Condition', y='Hour', palette='coolwarm')\n",
        "plt.title('Kecelakaan Berdasarkan Kondisi Cuaca dan Waktu dalam Sehari')\n",
        "plt.xlabel('Kondisi Cuaca')\n",
        "plt.ylabel('Jam')\n",
        "plt.xticks(rotation=45)\n",
        "plt.show()\n"
      ],
      "metadata": {
        "id": "TU9gAnyJFpcm"
      },
      "execution_count": null,
      "outputs": []
    },
    {
      "cell_type": "code",
      "source": [
        "pivot_table = df.pivot_table(index='Day_of_Week', columns='Hour', values='Accident ID', aggfunc='count')\n",
        "\n",
        "plt.figure(figsize=(12, 6))\n",
        "sns.heatmap(pivot_table, cmap='coolwarm', linewidths=0.5)\n",
        "plt.title('Peta Panas Kecelakaan Berdasarkan Hari dan Jam')\n",
        "plt.xlabel('Jam')\n",
        "plt.ylabel('Hari dalam Seminggu')\n",
        "plt.show()"
      ],
      "metadata": {
        "id": "byqmPiSBE3rM"
      },
      "execution_count": null,
      "outputs": []
    },
    {
      "cell_type": "code",
      "source": [
        "df['Day'] = df['Datetime'].dt.day\n",
        "\n",
        "plt.figure(figsize=(12, 6))\n",
        "sns.lineplot(data=df.groupby('Day').size(), marker='o', color='b')\n",
        "plt.title('Tren Kecelakaan Setiap Hari dalam Satu Bulan')\n",
        "plt.xlabel('Tanggal')\n",
        "plt.ylabel('Jumlah Kecelakaan')\n",
        "plt.xticks(range(1, 32))\n",
        "plt.show()\n"
      ],
      "metadata": {
        "id": "dOTz_wKdFv11"
      },
      "execution_count": null,
      "outputs": []
    },
    {
      "cell_type": "code",
      "source": [
        "df['YearMonth'] = df['Datetime'].dt.to_period('M').astype(str)\n",
        "\n",
        "plt.figure(figsize=(12, 6))\n",
        "sns.lineplot(data=df.groupby('YearMonth').size().reset_index(name='Count'), x='YearMonth', y='Count', marker='o', color='b')\n",
        "plt.title('Tren Kecelakaan dari Waktu ke Waktu')\n",
        "plt.xlabel('Tahun-Bulan')\n",
        "plt.ylabel('Jumlah Kecelakaan')\n",
        "plt.xticks(rotation=45)\n",
        "plt.show()\n"
      ],
      "metadata": {
        "id": "T2YVWBETE4yj"
      },
      "execution_count": null,
      "outputs": []
    },
    {
      "cell_type": "code",
      "source": [
        "m = folium.Map(location=[df['Latitude'].mean(), df['Longitude'].mean()], zoom_start=6)\n",
        "\n",
        "heat_data = list(zip(df['Latitude'], df['Longitude']))\n",
        "HeatMap(heat_data).add_to(m)\n",
        "\n",
        "m"
      ],
      "metadata": {
        "id": "zdqrHslyE7C2"
      },
      "execution_count": null,
      "outputs": []
    }
  ]
}